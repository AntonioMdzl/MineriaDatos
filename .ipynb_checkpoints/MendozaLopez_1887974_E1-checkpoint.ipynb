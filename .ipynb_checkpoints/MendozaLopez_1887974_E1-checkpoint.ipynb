{
 "cells": [
  {
   "cell_type": "markdown",
   "metadata": {},
   "source": [
    "# Examen 2: Ejercicios de Python.\n"
   ]
  },
  {
   "cell_type": "markdown",
   "metadata": {},
   "source": [
    "Al momento de responder las preguntas, cerciorense de que les imprima el resultado. "
   ]
  },
  {
   "cell_type": "markdown",
   "metadata": {},
   "source": [
    "### 1.- Dando lista A = [3, 2, 7, 4, 12, 9, 6, 1] desarrolla los siguientes 3 ejercicios.\n",
    "\n",
    "- Imprime la sumatoria de todos los elementos.\n",
    "- Ordenalos de mayor a menor.\n",
    "- Haz una nueva lista pero solo con sus elementos pares."
   ]
  },
  {
   "cell_type": "code",
   "execution_count": 121,
   "metadata": {},
   "outputs": [
    {
     "data": {
      "text/plain": [
       "44"
      ]
     },
     "execution_count": 121,
     "metadata": {},
     "output_type": "execute_result"
    }
   ],
   "source": [
    "#(Puntos 5)\n",
    "# Imprime la sumatoria de todos los elementos en a = [3, 2, 7, 4, 12, 9, 6, 1].\n",
    "A=[3,2,7,4,12,9,6,1]\n",
    "sum(A)\n"
   ]
  },
  {
   "cell_type": "code",
   "execution_count": 120,
   "metadata": {},
   "outputs": [
    {
     "data": {
      "text/plain": [
       "[1, 2, 3, 4, 6, 7, 9, 12]"
      ]
     },
     "execution_count": 120,
     "metadata": {},
     "output_type": "execute_result"
    }
   ],
   "source": [
    "#(Puntos 10)\n",
    "# Ordenalos de mayor a menor\n",
    "sorted(A)"
   ]
  },
  {
   "cell_type": "code",
   "execution_count": 119,
   "metadata": {},
   "outputs": [
    {
     "data": {
      "text/plain": [
       "[2, 4, 12, 6]"
      ]
     },
     "execution_count": 119,
     "metadata": {},
     "output_type": "execute_result"
    }
   ],
   "source": [
    "#(Puntos 10)\n",
    "# Haz una nueva lista pero solo con sus elementos pares\n",
    "pares=[num for num in A if num%2==0]\n",
    "pares"
   ]
  },
  {
   "cell_type": "markdown",
   "metadata": {},
   "source": [
    "### 2.- Dale valor a dos variables y realiza 5 funciones que regresen como resultado diferentes operaciones aritmeticas (suma, resta, etc...). "
   ]
  },
  {
   "cell_type": "code",
   "execution_count": 118,
   "metadata": {},
   "outputs": [
    {
     "name": "stdout",
     "output_type": "stream",
     "text": [
      "15\n",
      "-5\n",
      "50\n",
      "0.5\n",
      "9765625\n"
     ]
    }
   ],
   "source": [
    "#(Puntos 15)\n",
    "a=5\n",
    "b=10\n",
    "def suma(x,y):\n",
    "    su=x+y\n",
    "    return su\n",
    "print(suma(a,b))\n",
    "def resta(x,y):\n",
    "    res=x-y\n",
    "    return res\n",
    "print(resta(a,b))\n",
    "def multiplicacion(x,y):\n",
    "    mult=x*y\n",
    "    return mult\n",
    "print(multiplicacion(a,b))\n",
    "def division(x,y):\n",
    "    div=x/y\n",
    "    return div\n",
    "print(division(a,b))\n",
    "def potencia(x,y):\n",
    "    pot=x**y\n",
    "    return pot\n",
    "print(potencia(a,b))"
   ]
  },
  {
   "cell_type": "markdown",
   "metadata": {},
   "source": [
    "### 3.- Dada la lista A = [3, 2, 7, 4, 12, 9, 6, 1] y lista B = [13, 16, 21, 34, 18, 17, 11, 10] crea una lista nueva que contenga solo los datos impares de ambas listas."
   ]
  },
  {
   "cell_type": "code",
   "execution_count": 117,
   "metadata": {},
   "outputs": [
    {
     "data": {
      "text/plain": [
       "[3, 7, 9, 1, 13, 21, 17, 11]"
      ]
     },
     "execution_count": 117,
     "metadata": {},
     "output_type": "execute_result"
    }
   ],
   "source": [
    "#(Puntos 15)\n",
    "A=[3,2,7,4,12,9,6,1]\n",
    "B=[13,16,21,34,18,17,11,10]\n",
    "imparesA=[numa for numa in A if numa%2>0]\n",
    "imparesB=[numb for numb in B if numb%2>0]\n",
    "listaimpares=imparesA+imparesB\n",
    "listaimpares"
   ]
  },
  {
   "cell_type": "markdown",
   "metadata": {},
   "source": [
    "### 4.- Dadas las variables W = 11, X = 17, Y = 32, Z = 65, crea una función que clasifique por grupos de edad (niño, adolecente, adulto, adulto mayor. (Utiliza el elif)"
   ]
  },
  {
   "cell_type": "code",
   "execution_count": 116,
   "metadata": {},
   "outputs": [
    {
     "name": "stdout",
     "output_type": "stream",
     "text": [
      "Niño\n",
      "Niño\n",
      "Niño\n",
      "Adolescente\n",
      "Adolescente\n",
      "Adulto\n",
      "Adulto\n",
      "Adulto Mayor\n"
     ]
    }
   ],
   "source": [
    "#(Puntos 15)\n",
    "w=11\n",
    "x=17\n",
    "y=32\n",
    "z=65\n",
    "def grupoedad(a):\n",
    "    if a<w or (a>=w and a<=x):\n",
    "        grupo=\"Niño\"\n",
    "    elif a>x and a<=y:\n",
    "        grupo=\"Adolescente\"\n",
    "    elif a>y and a<=z:\n",
    "        grupo=\"Adulto\"\n",
    "    elif a>z:\n",
    "        grupo=\"Adulto Mayor\"\n",
    "    return grupo\n",
    "print(grupoedad(5))\n",
    "print(grupoedad(11))\n",
    "print(grupoedad(17))\n",
    "print(grupoedad(28))\n",
    "print(grupoedad(32))\n",
    "print(grupoedad(55))\n",
    "print(grupoedad(65))\n",
    "print(grupoedad(75))"
   ]
  },
  {
   "cell_type": "markdown",
   "metadata": {},
   "source": [
    "### 5.- Utilizando cualquiera de las condicionales (for, if, while...) imprime los siguientes patrones tal y como aparecen en el comentario, respetando los espacios y los saltos de renglon.\n"
   ]
  },
  {
   "cell_type": "code",
   "execution_count": 115,
   "metadata": {},
   "outputs": [
    {
     "name": "stdout",
     "output_type": "stream",
     "text": [
      "1 \n",
      "2 2 \n",
      "3 3 3 \n",
      "4 4 4 4 \n",
      "5 5 5 5 5 \n"
     ]
    }
   ],
   "source": [
    "#(Puntos 10)\n",
    "#1 \n",
    "#2 2\n",
    "#3 3 3\n",
    "#4 4 4 4\n",
    "#5 5 5 5 5\n",
    "for x in range(1,6):\n",
    "    if x==1:\n",
    "        print(\"1 \")\n",
    "    elif x==2:\n",
    "        print(\"2 \"*x)\n",
    "    elif x==3:\n",
    "        print(\"3 \"*x)\n",
    "    elif x==4:\n",
    "        print(\"4 \"*x)\n",
    "    elif x==5:\n",
    "        print(\"5 \"*x)"
   ]
  },
  {
   "cell_type": "code",
   "execution_count": 114,
   "metadata": {},
   "outputs": [
    {
     "name": "stdout",
     "output_type": "stream",
     "text": [
      "5 4 3 2 1 \n",
      "\n",
      "4 3 2 1 \n",
      "\n",
      "3 2 1 \n",
      "\n",
      "2 1 \n",
      "\n",
      "1\n"
     ]
    }
   ],
   "source": [
    "#(Puntos 15)\n",
    "#5 4 3 2 1 \n",
    "#4 3 2 1\n",
    "#3 2 1 \n",
    "#2 1\n",
    "#1\n",
    "for x in range(-5,0):\n",
    "    if x==-5:\n",
    "        for y in range(-5,0):\n",
    "            print(abs(y),end=\" \")\n",
    "    elif x==-4:\n",
    "        print(\"\\n\")\n",
    "        for y in range (-4,0):\n",
    "            print(abs(y),end=\" \")\n",
    "    elif x==-3:\n",
    "        print(\"\\n\")\n",
    "        for y in range (-3,0):\n",
    "            print(abs(y),end=\" \")\n",
    "    elif x==-2:\n",
    "        print(\"\\n\")\n",
    "        for y in range (-2,0):\n",
    "            print(abs(y),end=\" \")\n",
    "    elif x==-1:\n",
    "        print(\"\\n\")\n",
    "        print(abs(x))"
   ]
  },
  {
   "cell_type": "markdown",
   "metadata": {},
   "source": [
    "### 6.- Con la lista A = [3, 2, 7, 4, 12, 9, 6, 1] y el uso de condicionales, imprime una nueva lista con cada uno de los elementos de la lista A, al cuadrado."
   ]
  },
  {
   "cell_type": "code",
   "execution_count": 113,
   "metadata": {},
   "outputs": [
    {
     "name": "stdout",
     "output_type": "stream",
     "text": [
      "[9, 4, 49, 16, 144, 81, 36, 1]\n"
     ]
    }
   ],
   "source": [
    "#(Puntos 10)\n",
    "A=[3,2,7,4,12,9,6,1]\n",
    "B=[]\n",
    "for x in range(8):\n",
    "    B.append(A[x]**2)\n",
    "print(B)\n",
    "    \n",
    "\n",
    "    "
   ]
  },
  {
   "cell_type": "markdown",
   "metadata": {},
   "source": [
    "### (Extra puntos 5.) \n",
    "\n",
    "Conteste los tres puntos para obtener la totalidad de los puntos.\n",
    "*Mencione al menos 3 palabras reservadas para el lenguaje de programación de Python.\n",
    "*Describa la diferencia principal entre las listas y las tuplas en Python.\n",
    "*Describa para que sirve el condicional ELIF.\n",
    "\n",
    "\n",
    "* 1) True, False y and.\n",
    "* 2) Las tuplas no pueden ser modificadas, es decir que no puedes cambiar un elemento por otro nuevo, mientras que en las listas si.\n",
    "* 3) el condicional elif sirve para seguir agregando condiciones dentro de un if."
   ]
  },
  {
   "cell_type": "code",
   "execution_count": null,
   "metadata": {},
   "outputs": [],
   "source": []
  }
 ],
 "metadata": {
  "kernelspec": {
   "display_name": "Python 3",
   "language": "python",
   "name": "python3"
  },
  "language_info": {
   "codemirror_mode": {
    "name": "ipython",
    "version": 3
   },
   "file_extension": ".py",
   "mimetype": "text/x-python",
   "name": "python",
   "nbconvert_exporter": "python",
   "pygments_lexer": "ipython3",
   "version": "3.7.4"
  }
 },
 "nbformat": 4,
 "nbformat_minor": 2
}
