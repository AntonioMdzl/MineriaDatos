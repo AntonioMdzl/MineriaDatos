{
 "cells": [
  {
   "cell_type": "markdown",
   "metadata": {},
   "source": [
    "# # Referencias\n",
    "\n",
    "* https://www.excelsior.com.mx/nacional/las-muertes-de-la-tristeza-las-cifras-del-suicidio-en-mexico/1335558\n",
    "* https://github.com/MarioSauceda/Mineria_de_datos/blob/master/Avance%201%20PIA.ipynb\n",
    "* https://programacion.net/"
   ]
  },
  {
   "cell_type": "code",
   "execution_count": null,
   "metadata": {},
   "outputs": [],
   "source": []
  }
 ],
 "metadata": {
  "kernelspec": {
   "display_name": "Python 3",
   "language": "python",
   "name": "python3"
  },
  "language_info": {
   "codemirror_mode": {
    "name": "ipython",
    "version": 3
   },
   "file_extension": ".py",
   "mimetype": "text/x-python",
   "name": "python",
   "nbconvert_exporter": "python",
   "pygments_lexer": "ipython3",
   "version": "3.7.4"
  }
 },
 "nbformat": 4,
 "nbformat_minor": 2
}
